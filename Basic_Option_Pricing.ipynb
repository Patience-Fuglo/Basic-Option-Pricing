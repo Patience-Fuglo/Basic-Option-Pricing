{
  "nbformat": 4,
  "nbformat_minor": 0,
  "metadata": {
    "colab": {
      "provenance": []
    },
    "kernelspec": {
      "name": "python3",
      "display_name": "Python 3"
    },
    "language_info": {
      "name": "python"
    }
  },
  "cells": [
    {
      "cell_type": "code",
      "execution_count": 3,
      "metadata": {
        "colab": {
          "base_uri": "https://localhost:8080/"
        },
        "id": "mBZeUwbe8OGs",
        "outputId": "54c10a98-5d78-4eb3-e039-0bdb6720e985"
      },
      "outputs": [
        {
          "output_type": "stream",
          "name": "stdout",
          "text": [
            "Requirement already satisfied: QuantLib in /usr/local/lib/python3.11/dist-packages (1.37)\n"
          ]
        }
      ],
      "source": [
        "!pip install QuantLib"
      ]
    },
    {
      "cell_type": "code",
      "source": [
        "import QuantLib as ql\n",
        "\n",
        "# Step 1: Define Market Parameters\n",
        "spot_price = 100  # Current stock price\n",
        "strike_price = 100  # Strike price of the option\n",
        "interest_rate = 0.05  # 5% annual risk-free rate\n",
        "volatility = 0.2  # 20% annual volatility\n",
        "time_to_maturity = 1.0  # 1 year until expiration\n",
        "\n",
        "day_count = ql.Actual360()\n",
        "calendar = ql.NullCalendar()\n",
        "settlement_date = ql.Date().todaysDate()\n",
        "ql.Settings.instance().evaluationDate = settlement_date\n",
        "\n",
        "# Step 2: Construct Yield Curve and Volatility Structure\n",
        "risk_free_curve = ql.YieldTermStructureHandle(\n",
        "    ql.FlatForward(settlement_date, ql.QuoteHandle(ql.SimpleQuote(interest_rate)), day_count))\n",
        "volatility_structure = ql.BlackVolTermStructureHandle(\n",
        "    ql.BlackConstantVol(settlement_date, calendar, ql.QuoteHandle(ql.SimpleQuote(volatility)), day_count))\n",
        "\n",
        "# Step 3: Create Black-Scholes Process\n",
        "spot_handle = ql.QuoteHandle(ql.SimpleQuote(spot_price))\n",
        "bs_process = ql.BlackScholesProcess(spot_handle, risk_free_curve, volatility_structure)\n",
        "\n",
        "# Step 4: Define European Call and Put Options\n",
        "maturity_date = settlement_date + ql.Period(int(time_to_maturity * 360), ql.Days)\n",
        "payoff_call = ql.PlainVanillaPayoff(ql.Option.Call, strike_price)\n",
        "payoff_put = ql.PlainVanillaPayoff(ql.Option.Put, strike_price)\n",
        "exercise = ql.EuropeanExercise(maturity_date)\n",
        "call_option = ql.VanillaOption(payoff_call, exercise)\n",
        "put_option = ql.VanillaOption(payoff_put, exercise)\n",
        "\n",
        "# Step 5: Set Pricing Engine (Black-Scholes Model)\n",
        "bs_engine = ql.AnalyticEuropeanEngine(bs_process)\n",
        "call_option.setPricingEngine(bs_engine)\n",
        "put_option.setPricingEngine(bs_engine)\n",
        "\n",
        "# Step 6: Calculate Option Prices\n",
        "call_price = call_option.NPV()\n",
        "put_price = put_option.NPV()\n",
        "print(f\"European Call Option Price: {call_price:.4f}\")\n",
        "print(f\"European Put Option Price: {put_price:.4f}\")\n",
        "\n",
        "# Step 7: Calculate Greeks for Sensitivity Analysis\n",
        "def print_greeks(option, option_type):\n",
        "    print(f\"\\n{option_type} Option Greeks:\")\n",
        "    print(f\"Delta: {option.delta():.4f}\")\n",
        "    print(f\"Gamma: {option.gamma():.4f}\")\n",
        "    print(f\"Vega: {option.vega():.4f}\")\n",
        "    print(f\"Theta: {option.theta():.4f}\")\n",
        "    print(f\"Rho: {option.rho():.4f}\")\n",
        "\n",
        "print_greeks(call_option, \"Call\")\n",
        "print_greeks(put_option, \"Put\")\n"
      ],
      "metadata": {
        "colab": {
          "base_uri": "https://localhost:8080/"
        },
        "id": "mmhoFUsT8xil",
        "outputId": "cd0ca1d5-ad54-44f8-b1e0-fd072693747b"
      },
      "execution_count": 4,
      "outputs": [
        {
          "output_type": "stream",
          "name": "stdout",
          "text": [
            "European Call Option Price: 10.4506\n",
            "European Put Option Price: 5.5735\n",
            "\n",
            "Call Option Greeks:\n",
            "Delta: 0.6368\n",
            "Gamma: 0.0188\n",
            "Vega: 37.5240\n",
            "Theta: -6.4140\n",
            "Rho: 53.2325\n",
            "\n",
            "Put Option Greeks:\n",
            "Delta: -0.3632\n",
            "Gamma: 0.0188\n",
            "Vega: 37.5240\n",
            "Theta: -1.6579\n",
            "Rho: -41.8905\n"
          ]
        }
      ]
    }
  ]
}